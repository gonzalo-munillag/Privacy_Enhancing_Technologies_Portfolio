{
 "cells": [
  {
   "cell_type": "markdown",
   "id": "colonial-edmonton",
   "metadata": {},
   "source": [
    "# A homemade stream cipher\n",
    "\n",
    "In this notebook we will use a pseudorandom generator to build our first homemade cipher\n",
    "\n",
    "# Table of contents:\n",
    "\n",
    "* [Encoding a message to bytes](#encoding)\n",
    "* [Stream cipher](#stream)\n",
    "    * [XORing bytes](#xor)\n",
    "    * [Bytes Random Generator](#brg)\n",
    "* [Practical demonstration with python objects](#practical)\n",
    "    \n",
    "Author: [Sebastià Agramunt Puig](https://github.com/sebastiaagramunt) for [OpenMined](https://www.openmined.org/) Privacy ML Series course.\n"
   ]
  },
  {
   "cell_type": "markdown",
   "id": "thorough-printing",
   "metadata": {},
   "source": [
    "\n",
    "## Encoding a message to bytes <a class=\"anchor\" id=\"elgamal\"></a>\n",
    "\n",
    "To code our first cipher based on a pseudorandom generator we need to understand a little bit better how information is encoded in python. For this, we coded several functions to help us."
   ]
  },
  {
   "cell_type": "code",
   "execution_count": 1,
   "id": "married-transparency",
   "metadata": {},
   "outputs": [
    {
     "name": "stdout",
     "output_type": "stream",
     "text": [
      "message:\n",
      "b'simple message'\n",
      "len bytes: 14\n",
      "\n",
      "message in binary:\n",
      "0111001101101001011011010111000001101100011001010010000001101101011001010111001101110011011000010110011101100101\n",
      "len bits: 112\n",
      "\n",
      "message in hexadecimal:\n",
      "73696d706c65206d657373616765\n",
      "len hex:28\n",
      "\n"
     ]
    }
   ],
   "source": [
    "from crypto import bytes_to_bin, bytes_to_hex\n",
    "\n",
    "message = b\"simple message\"\n",
    "\n",
    "bin_repr = bytes_to_bin(message, pre=\"\")\n",
    "hex_repr = bytes_to_hex(message, pre=\"\")\n",
    "\n",
    "print(f\"message:\\n{message}\\nlen bytes: {len(message)}\\n\")\n",
    "print(f\"message in binary:\\n{bin_repr}\\nlen bits: {len(bin_repr)}\\n\")\n",
    "print(f\"message in hexadecimal:\\n{hex_repr}\\nlen hex:{len(hex_repr)}\\n\")"
   ]
  },
  {
   "cell_type": "markdown",
   "id": "confirmed-cargo",
   "metadata": {},
   "source": [
    "## Stream Cipher <a class=\"anchor\" id=\"stream\"></a>\n",
    "\n",
    "In our first cipher we are going to pad our messeage (XOR) with a pseudorandom \"stream\" of bytes. This kind of cipher is known as stream cipher.\n",
    "\n",
    "<img src=\"img/stream_cipher.png\" style=\"width:900px\"/>"
   ]
  },
  {
   "cell_type": "markdown",
   "id": "individual-pharmacology",
   "metadata": {},
   "source": [
    "### XORing bytes <a class=\"anchor\" id=\"xor\"></a>\n",
    "\n",
    "We need to implement the XOR operation byte-wise, that is how we \"pad\" our message to convert it to its encrypted form."
   ]
  },
  {
   "cell_type": "code",
   "execution_count": 1,
   "id": "hazardous-memory",
   "metadata": {},
   "outputs": [
    {
     "name": "stdout",
     "output_type": "stream",
     "text": [
      "a: 147 (int), 93 (hex), 10010011 (bin)\n",
      "b: 127 (int), 7f (hex), 01111111 (bin)\n",
      "x: 236 (int), ec (hex), 11101100 (bin)\n",
      "\n",
      "10010011\n",
      "+\n",
      "01111111\n",
      "=\n",
      "11101100\n"
     ]
    }
   ],
   "source": [
    "from crypto import binary, hexadecimal\n",
    "import random\n",
    "\n",
    "a = random.randrange(256)\n",
    "b = random.randrange(256)\n",
    "\n",
    "print(f\"a: {a} (int), {hexadecimal(a, pre='')} (hex), {binary(a, pre='')} (bin)\")\n",
    "print(f\"b: {b} (int), {hexadecimal(b, pre='')} (hex), {binary(b, pre='')} (bin)\")\n",
    "\n",
    "xored = a ^ b\n",
    "print(f\"x: {xored} (int), {hexadecimal(xored, pre='')} (hex), {binary(xored, pre='')} (bin)\")\n",
    "\n",
    "print(f\"\\n{binary(a, pre='')}\\n+\\n{binary(b, pre='')}\\n=\\n{binary(xored, pre='')}\")"
   ]
  },
  {
   "cell_type": "markdown",
   "id": "christian-commodity",
   "metadata": {},
   "source": [
    "### Bytes random generator <a class=\"anchor\" id=\"brg\"></a>\n",
    "\n",
    "We need a pseudorandom genertor for bytes, let's code it!\n",
    "\n",
    "In Python we have the ```state``` variable to store the state of the pseudorandom generator in ```random``` package."
   ]
  },
  {
   "cell_type": "code",
   "execution_count": 2,
   "id": "spare-buying",
   "metadata": {},
   "outputs": [
    {
     "name": "stdout",
     "output_type": "stream",
     "text": [
      "[16, 219, 247, 7, 105, 236, 251, 142, 82, 17]\n",
      "[16, 219, 247, 7, 105, 236, 251, 142, 82, 17]\n"
     ]
    }
   ],
   "source": [
    "# in random python pacakge we have the \"state\" of the PRG\n",
    "random.seed(10)\n",
    "state = random.getstate()\n",
    "\n",
    "print([random.randrange(256) for _ in range(10)])\n",
    "\n",
    "random.setstate(state)\n",
    "print([random.randrange(256) for _ in range(10)])\n"
   ]
  },
  {
   "cell_type": "code",
   "execution_count": 9,
   "id": "julian-camping",
   "metadata": {},
   "outputs": [],
   "source": [
    "def PseudoRandomBytes(state: tuple, l: int) -> (tuple, bytes):\n",
    "    \"\"\"\n",
    "    Generates a stream of pseudorandom bytes\n",
    "    Input:\n",
    "        - state: a state for the python random pacakge (random.getstate())\n",
    "        - l: length of the pseudorandom stream of bytes\n",
    "    Returns:\n",
    "        - state: the current state of the random\n",
    "        - bytestream: a bytes class of lenght l\n",
    "    \"\"\"\n",
    "    random.setstate(state)\n",
    "    prng = []\n",
    "    \n",
    "    while len(prng) < l:\n",
    "        prng.append(hexadecimal(random.randrange(256)))\n",
    "    \n",
    "    return random.getstate(), bytes([int(x, 0) for x in prng])"
   ]
  },
  {
   "cell_type": "code",
   "execution_count": 10,
   "id": "anticipated-jackson",
   "metadata": {},
   "outputs": [
    {
     "name": "stdout",
     "output_type": "stream",
     "text": [
      "b'\\x8cI[=\\x88\\xe9\\x9aTYZ\\xf5\\xb1\\xa7\\xder\\x02\\x16\\xa9\\xa3|'\n"
     ]
    }
   ],
   "source": [
    "state = random.getstate()\n",
    "l = 20\n",
    "\n",
    "new_state, prng = PseudoRandomBytes(state, l)\n",
    "print(prng)\n"
   ]
  },
  {
   "cell_type": "markdown",
   "id": "fifty-gravity",
   "metadata": {},
   "source": [
    "## Practical demonstration with python objects <a class=\"anchor\" id=\"practical\"></a>\n",
    "\n",
    "Let's go practical in this section!. We will build a python object called `Party` that can encrypt and decrypt information keeping track of the state of the pseudorandom generator."
   ]
  },
  {
   "cell_type": "code",
   "execution_count": 11,
   "id": "filled-contemporary",
   "metadata": {},
   "outputs": [],
   "source": [
    "class Party:\n",
    "    def __init__(self, state: tuple):\n",
    "        self._state = state\n",
    "        \n",
    "    def encrypt_decrypt(self, m: bytes) -> bytes:\n",
    "        new_state, random_bytes = PseudoRandomBytes(self._state, len(m))\n",
    "        self._state = new_state\n",
    "        \n",
    "        return bytes([a ^ b for a, b in zip(m, random_bytes)])"
   ]
  },
  {
   "cell_type": "code",
   "execution_count": 12,
   "id": "communist-fetish",
   "metadata": {},
   "outputs": [],
   "source": [
    "state = random.getstate()\n",
    "\n",
    "alice = Party(state)\n",
    "bob = Party(state)"
   ]
  },
  {
   "cell_type": "code",
   "execution_count": 13,
   "id": "configured-canada",
   "metadata": {},
   "outputs": [
    {
     "name": "stdout",
     "output_type": "stream",
     "text": [
      "message:\n",
      "\tb'Hi Bob. How are you doing?'\n",
      "\n",
      "ciphertext:\n",
      "\tb'`\\xef\\xc5\\x8d>\\xa5\\xd3[\\xc3\\x98\\x88\\x004\\x88\\x89\\xed<\\xb8\\xc7\\xe6\\x9e;\\x88\\\\\\xb3-'\n",
      "\n",
      "recovered_message:\n",
      "\tb'Hi Bob. How are you doing?'\n",
      "\n"
     ]
    }
   ],
   "source": [
    "m = b\"Hi Bob. How are you doing?\"\n",
    "ctx = alice.encrypt_decrypt(m)\n",
    "m2 = bob.encrypt_decrypt(ctx)\n",
    "\n",
    "print(f\"message:\\n\\t{m}\\n\")\n",
    "print(f\"ciphertext:\\n\\t{ctx}\\n\")\n",
    "print(f\"recovered_message:\\n\\t{m2}\\n\")"
   ]
  },
  {
   "cell_type": "code",
   "execution_count": 14,
   "id": "statewide-ordinary",
   "metadata": {},
   "outputs": [
    {
     "name": "stdout",
     "output_type": "stream",
     "text": [
      "message:\n",
      "\tb\"I'm good, thank you!. How do you do?\"\n",
      "\n",
      "ciphertext:\n",
      "\tb'H\\xc7L9\\xd4@\"S\\xc4\\xd83\\x82\\xbe\\x8a\\xc4\\xa4\\x93\\xb7\\xddoW\\x85X\\x0b\\x82,_\\xf8\\xfe\\x07\\xfbX7R\\xfdl'\n",
      "\n",
      "recovered_message:\n",
      "\tb\"I'm good, thank you!. How do you do?\"\n",
      "\n"
     ]
    }
   ],
   "source": [
    "m = b\"I'm good, thank you!. How do you do?\"\n",
    "ctx = bob.encrypt_decrypt(m)\n",
    "m2 = alice.encrypt_decrypt(ctx)\n",
    "\n",
    "\n",
    "print(f\"message:\\n\\t{m}\\n\")\n",
    "print(f\"ciphertext:\\n\\t{ctx}\\n\")\n",
    "print(f\"recovered_message:\\n\\t{m2}\\n\")"
   ]
  },
  {
   "cell_type": "code",
   "execution_count": null,
   "id": "statistical-turner",
   "metadata": {},
   "outputs": [],
   "source": []
  },
  {
   "cell_type": "code",
   "execution_count": null,
   "id": "modern-north",
   "metadata": {},
   "outputs": [],
   "source": []
  },
  {
   "cell_type": "code",
   "execution_count": null,
   "id": "aggressive-establishment",
   "metadata": {},
   "outputs": [],
   "source": []
  },
  {
   "cell_type": "code",
   "execution_count": null,
   "id": "secondary-found",
   "metadata": {},
   "outputs": [],
   "source": []
  },
  {
   "cell_type": "code",
   "execution_count": null,
   "id": "pressing-interview",
   "metadata": {},
   "outputs": [],
   "source": []
  }
 ],
 "metadata": {
  "kernelspec": {
   "display_name": "Python 3",
   "language": "python",
   "name": "python3"
  },
  "language_info": {
   "codemirror_mode": {
    "name": "ipython",
    "version": 3
   },
   "file_extension": ".py",
   "mimetype": "text/x-python",
   "name": "python",
   "nbconvert_exporter": "python",
   "pygments_lexer": "ipython3",
   "version": "3.9.2"
  }
 },
 "nbformat": 4,
 "nbformat_minor": 5
}
