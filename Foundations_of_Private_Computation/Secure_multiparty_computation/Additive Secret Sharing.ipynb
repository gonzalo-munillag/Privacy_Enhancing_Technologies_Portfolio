{
 "cells": [
  {
   "cell_type": "markdown",
   "metadata": {},
   "source": [
    "# Additive Secret Sharing\n",
    "\n",
    "Author: \n",
    "- Carlos Salgado - [email](mailto:csalgado@uwo.ca) - [linkedin](https://www.linkedin.com/in/eng-socd/) - [github](https://github.com/socd06)\n",
    "\n",
    "## Additive Secret Sharing\n",
    "Additive Secret Sharing is a mechanism to share data among parties and to perform computation on it. \n",
    "\n",
    "![Secret Sharing](img/secret-sharing.jpg)\n",
    "\n",
    "## Sharing\n",
    "A secret `s` is uniformly split into `n` shares, one per shareholder (also known as worker, node, user or party) using some randomness `r`, also known as some **very high random prime** number `Q`. \n",
    "\n",
    "$ F_s (s, r, n) = ( s_1, s_2, ..., s_n ) $"
   ]
  },
  {
   "cell_type": "markdown",
   "metadata": {},
   "source": [
    "## Reconstruction\n",
    "`s` can be reconstructed (decrypted) by adding up **all the shares** and taking the [*modulo*](https://en.wikipedia.org/wiki/Modulo_operation) of the random prime number `Q`, used to encrypt the shares originally. "
   ]
  },
  {
   "cell_type": "markdown",
   "metadata": {},
   "source": [
    "$ s = ( \\: \\sum \\limits _{i=1} ^n s_i \\: ) \\; mod \\; Q $"
   ]
  },
  {
   "cell_type": "markdown",
   "metadata": {},
   "source": [
    "## 32-bit Integer Secrets\n",
    "A secret is the data or message that a party wants to secure. In additive secret sharing, secrets (and therefore, shares) must be members of a fixed [finite field](https://en.wikipedia.org/wiki/Finite_field). Particularly, the literature mentions shares should be members of the $ {\\mathbb{Z}_{2^{32}}} $ [ring](https://en.wikipedia.org/wiki/Ring_(mathematics)), which is the [ring of integers](https://en.wikipedia.org/wiki/Ring_of_integers) that fit within [32-bits](https://en.wikipedia.org/wiki/32-bit_computing).  "
   ]
  },
  {
   "cell_type": "markdown",
   "metadata": {},
   "source": [
    "![Number Types](img/num-types-solid.jpg)\n",
    "\n",
    "Rings are [sets](https://en.wikipedia.org/wiki/Set_(mathematics)) with two operations, addition and multiplication, which allow the rationale of secret sharing and reconstruction to work. \n",
    "\n",
    "Plainly, secrets and secret shares **must** be integers within -2,147,483,647 to +2,147,483,647"
   ]
  },
  {
   "cell_type": "markdown",
   "metadata": {},
   "source": [
    "## Governance\n",
    "Additive secret sharing provides shared governance. The threshold `t` to reconstruct `s` is equal to `n`, which means **no party can recover the data** alone because all the shares are required to decrypt the secret *(t = n)*. This scheme allows us to do computation on the shares while each shareholder is only aware of their **own** share."
   ]
  },
  {
   "cell_type": "markdown",
   "metadata": {},
   "source": [
    "### [Quiz] Find the secret `s`\n",
    "\n",
    "In practice, we use a **very high prime number** Q to add a **big deal of uniform randomness** to our shares. Here we will use a very small Q, so you can try to solve the quiz without programming yet. \n",
    "\n",
    "Let $ s_1 = 10 \\; and \\; s_2 = 74 \\; and \\; Q = 59 $\n",
    "\n",
    "What is the original secret `s`? Fill the ____ space below with your answer.\n",
    "Try **not** to use a calculator or programming."
   ]
  },
  {
   "cell_type": "code",
   "execution_count": null,
   "metadata": {},
   "outputs": [],
   "source": [
    "# Run this cell to import the quizzes\n",
    "from quiz import q0, q1, q2"
   ]
  },
  {
   "cell_type": "code",
   "execution_count": null,
   "metadata": {},
   "outputs": [],
   "source": [
    "# run to check your answer\n",
    "q0.check(___)"
   ]
  },
  {
   "cell_type": "code",
   "execution_count": null,
   "metadata": {},
   "outputs": [],
   "source": [
    "# Uncomment the line below to see a hint\n",
    "# q0.hint"
   ]
  },
  {
   "cell_type": "code",
   "execution_count": null,
   "metadata": {},
   "outputs": [],
   "source": [
    "# Uncomment the line below to see the solution\n",
    "# q0.solution"
   ]
  },
  {
   "cell_type": "markdown",
   "metadata": {},
   "source": [
    "### [Quiz] Find the final share s<sub>2</sub>\n",
    "\n",
    "Using a small `Q` to facilitate calculation (it needs to be a **very high prime number** in production), let \n",
    "\n",
    "$ s = 7, n = 2 $ with $ Q = 59 $ and $ s_1 = 9 $\n",
    "plugged in on the secret reconstruction equation, find the final share s<sub>2</sub>.\n",
    "\n",
    "Fill the ____ space below with your answer. Feel free to implement the equation in a new cell or use whatever tool you'd like (e.g. a calculator), it's your call.  "
   ]
  },
  {
   "cell_type": "code",
   "execution_count": null,
   "metadata": {},
   "outputs": [],
   "source": [
    "# Fill the ____ space below with your answer\n",
    "final_share = \n",
    "\n",
    "# run to check your answer\n",
    "q1.check(final_share)"
   ]
  },
  {
   "cell_type": "code",
   "execution_count": null,
   "metadata": {},
   "outputs": [],
   "source": [
    "# Uncomment the line below to see a hint\n",
    "# q1.hint"
   ]
  },
  {
   "cell_type": "code",
   "execution_count": null,
   "metadata": {},
   "outputs": [],
   "source": [
    "# Uncomment the line below to see the solution\n",
    "# q1.solution"
   ]
  },
  {
   "cell_type": "markdown",
   "metadata": {},
   "source": [
    "## In Practice\n",
    "Just as an educational example, we can generate a list of prime numbers using [sympy](https://www.sympy.org/en/index.html)"
   ]
  },
  {
   "cell_type": "code",
   "execution_count": null,
   "metadata": {},
   "outputs": [],
   "source": [
    "# Verify we have all the tools we need to run the notebook\n",
    "!pip install -r requirements.txt"
   ]
  },
  {
   "cell_type": "code",
   "execution_count": null,
   "metadata": {},
   "outputs": [],
   "source": [
    "import sympy\n",
    "\n",
    "# An arbitrary constant, feel free to play with it\n",
    "CONST = 999\n",
    "\n",
    "BIT_DEPTH = 31\n",
    "\n",
    "# Range start\n",
    "start = 2**BIT_DEPTH-CONST\n",
    "\n",
    "# Maximum in Z2**32 ring\n",
    "end = 2**BIT_DEPTH \n",
    "\n",
    "prime_lst = list(sympy.primerange(start,end+1))\n",
    "\n",
    "print(\"Prime numbers in range: \" , prime_lst)"
   ]
  },
  {
   "cell_type": "markdown",
   "metadata": {},
   "source": [
    "And **randomly** choose one every time using [NumPy](https://numpy.org/devdocs/contents.html)'s [randint](https://numpy.org/doc/stable/reference/random/generated/numpy.random.randint.html)"
   ]
  },
  {
   "cell_type": "code",
   "execution_count": null,
   "metadata": {},
   "outputs": [],
   "source": [
    "from numpy.random import randint\n",
    "\n",
    "Q = prime_lst[randint(len(prime_lst))]\n",
    "Q"
   ]
  },
  {
   "cell_type": "markdown",
   "metadata": {},
   "source": [
    "As an additional note, the [Secrets module](https://docs.python.org/3/library/secrets.html), introduced in Python 3.6, provides randomness as secure as your operating system."
   ]
  },
  {
   "cell_type": "code",
   "execution_count": null,
   "metadata": {},
   "outputs": [],
   "source": [
    "import secrets \n",
    "  \n",
    "Q = secrets.choice(prime_lst)\n",
    "Q"
   ]
  },
  {
   "cell_type": "markdown",
   "metadata": {},
   "source": [
    "## The Final Share and 2-party Additive Secret Sharing\n",
    "\n",
    "Knowing that $ s_n = Q - (\\;  \\sum \\limits _{i=1} ^{n-1} s_i \\; mod \\; Q \\; ) + s $\n",
    "\n",
    "How do we implement 2-party ($ n=2 $) additive secret sharing using Python? \n",
    "\n",
    "Keep reading and fing out!"
   ]
  },
  {
   "cell_type": "code",
   "execution_count": null,
   "metadata": {},
   "outputs": [],
   "source": [
    "def dual_share(s, r):\n",
    "    '''\n",
    "    s = secret\n",
    "    r = randomness\n",
    "    '''\n",
    "    share_lst = list()\n",
    "    share_lst.append(randint(0,r))\n",
    "        \n",
    "    final_share = r - (share_lst[0] % r) + s\n",
    "    \n",
    "    share_lst.append(final_share)\n",
    "        \n",
    "    return share_lst"
   ]
  },
  {
   "cell_type": "code",
   "execution_count": null,
   "metadata": {},
   "outputs": [],
   "source": [
    "# Let's generate a couple of shares\n",
    "secret = 5 \n",
    "\n",
    "dual_shares = dual_share(secret, Q)\n",
    "dual_shares"
   ]
  },
  {
   "cell_type": "markdown",
   "metadata": {},
   "source": [
    "Now go back to the previous cell and **run it again**. Notice anything?\n",
    "\n",
    "...\n",
    "\n",
    "...\n",
    "\n",
    "... \n",
    "\n",
    "See it yet? The shares are never the same because they are **randomly generated**.\n",
    "\n",
    "Now let's implement the reconstruction (or decryption) function."
   ]
  },
  {
   "cell_type": "code",
   "execution_count": null,
   "metadata": {},
   "outputs": [],
   "source": [
    "def decrypt(shares, r):\n",
    "    '''\n",
    "    shares = iterable made of additive secret shares\n",
    "    r = randomness\n",
    "    '''\n",
    "    return sum(shares) % r"
   ]
  },
  {
   "cell_type": "code",
   "execution_count": null,
   "metadata": {},
   "outputs": [],
   "source": [
    "# And let's decrypt our secret for the first time\n",
    "decrypt(dual_shares, Q)"
   ]
  },
  {
   "cell_type": "markdown",
   "metadata": {},
   "source": [
    "## Exercise: Implement n-party additive secret sharing \n",
    "Fill the function below with your code."
   ]
  },
  {
   "cell_type": "code",
   "execution_count": null,
   "metadata": {},
   "outputs": [],
   "source": [
    "def n_share(s, r, n):\n",
    "    '''\n",
    "    s = secret\n",
    "    r = randomness\n",
    "    n = number of nodes, workers or participants    \n",
    "    \n",
    "    returns a tuple of n-shares\n",
    "    '''\n",
    "    # replace with your code\n",
    "    pass            "
   ]
  },
  {
   "cell_type": "code",
   "execution_count": null,
   "metadata": {},
   "outputs": [],
   "source": [
    "five_shares = n_share(s=686,r=Q,n=5)\n",
    "five_shares\n",
    "\n",
    "# run this cell to check your solution\n",
    "q2.check(decrypt(five_shares, Q))"
   ]
  },
  {
   "cell_type": "code",
   "execution_count": null,
   "metadata": {},
   "outputs": [],
   "source": [
    "# Uncomment the line below to see a hint\n",
    "# q2.hint"
   ]
  },
  {
   "cell_type": "code",
   "execution_count": null,
   "metadata": {},
   "outputs": [],
   "source": [
    "# Uncomment the line below to see the solution\n",
    "# q2.solution"
   ]
  },
  {
   "cell_type": "markdown",
   "metadata": {},
   "source": [
    "## Addition\n",
    "Given two shared values $a$ and $b$, a party $P_i$ can compute the added shares as:\n",
    "$ c_i = ( a_i + b_i ) \\; mod \\; Q$\n",
    "\n",
    "In Python, we can implement this type of addition like this:"
   ]
  },
  {
   "cell_type": "code",
   "execution_count": null,
   "metadata": {},
   "outputs": [],
   "source": [
    "def addition(a, b, r):\n",
    "    '''\n",
    "    a = iterable of the same length of b\n",
    "    b = iterable of the same length of a\n",
    "    r = randomness AKA randomly generated very high prime number \n",
    "    '''\n",
    "    c = list()\n",
    "    \n",
    "    for i in range(len(a)):\n",
    "        c.append((a[i] + b[i]) % r)\n",
    "        \n",
    "    return tuple(c)"
   ]
  },
  {
   "cell_type": "markdown",
   "metadata": {},
   "source": [
    "Considering Alice and Bob are our parties, with secrets $s_a$ and $s_b$ to be shared (2-way) and wanting to compute addition.\n",
    "\n",
    "Let $s_a = 5 $ and $s_b = 11 $\n",
    "\n",
    "Alice's shares would be something like:"
   ]
  },
  {
   "cell_type": "code",
   "execution_count": null,
   "metadata": {},
   "outputs": [],
   "source": [
    "# Alice's secret\n",
    "sa = 5 \n",
    "\n",
    "alice_shares = dual_share(sa, Q)\n",
    "alice_shares"
   ]
  },
  {
   "cell_type": "markdown",
   "metadata": {},
   "source": [
    "While Bob's shares would be"
   ]
  },
  {
   "cell_type": "code",
   "execution_count": null,
   "metadata": {},
   "outputs": [],
   "source": [
    "# Bob's secret\n",
    "sb = 11\n",
    "\n",
    "bob_shares = dual_share(sb, Q)\n",
    "bob_shares"
   ]
  },
  {
   "cell_type": "code",
   "execution_count": null,
   "metadata": {},
   "outputs": [],
   "source": [
    "secret_sum = addition(alice_shares, bob_shares, Q)\n",
    "secret_sum"
   ]
  },
  {
   "cell_type": "markdown",
   "metadata": {},
   "source": [
    "Doesn't make a lot of sense, does it?\n",
    "\n",
    "Secret shares must only reveal information about their secrets when they are all combined. Otherwise all data must be hidden, which defines the **privacy** property. \n",
    "\n",
    "These are still secret shares so there is one more step to get the sum of the original secrets. "
   ]
  },
  {
   "cell_type": "code",
   "execution_count": null,
   "metadata": {},
   "outputs": [],
   "source": [
    "decrypt(secret_sum, Q)"
   ]
  },
  {
   "cell_type": "markdown",
   "metadata": {},
   "source": [
    "Et Voilà!"
   ]
  },
  {
   "cell_type": "markdown",
   "metadata": {},
   "source": [
    "## Public (scalar) Multiplication\n",
    "Given a list of shared values $a$ and a **scalar** $b$, a party $P_i$ can compute the multiplied shares as:\n",
    "$ c_i = a_i \\times b \\; mod \\; Q$\n",
    "\n",
    "In Python, we can implement this type of multiplication like this:"
   ]
  },
  {
   "cell_type": "code",
   "execution_count": null,
   "metadata": {},
   "outputs": [],
   "source": [
    "def public_mul(a, b, r):\n",
    "    '''\n",
    "    a = iterable of the same length of b\n",
    "    b = scalar to multiply a by\n",
    "    r = randomness AKA randomly generated very high prime number \n",
    "    '''\n",
    "    c = list()\n",
    "    \n",
    "    for i in range(len(a)):\n",
    "        c.append((a[i] * b) % r)\n",
    "        \n",
    "    return tuple(c)"
   ]
  },
  {
   "cell_type": "markdown",
   "metadata": {},
   "source": [
    "Let's say another party wants to multiply Alice's shares by the **scalar** value of 3. "
   ]
  },
  {
   "cell_type": "code",
   "execution_count": null,
   "metadata": {},
   "outputs": [],
   "source": [
    "alice_times3 = public_mul(alice_shares, 3, Q)"
   ]
  },
  {
   "cell_type": "markdown",
   "metadata": {},
   "source": [
    "Then we can decrypt (with Alice's permission) to double check we did multiply what we intended."
   ]
  },
  {
   "cell_type": "code",
   "execution_count": null,
   "metadata": {},
   "outputs": [],
   "source": [
    "decrypt(alice_times3,Q)"
   ]
  },
  {
   "cell_type": "markdown",
   "metadata": {},
   "source": [
    "And this is `True` because Alice's secret $sa = 5$, remember?"
   ]
  },
  {
   "cell_type": "code",
   "execution_count": null,
   "metadata": {},
   "outputs": [],
   "source": [
    "decrypt(alice_times3,Q) == sa * 3"
   ]
  },
  {
   "cell_type": "markdown",
   "metadata": {},
   "source": [
    "## PyTorch + PySyft implementation\n",
    "Now that you know how additive secret sharing works under the hood, let's see how we can leverage PyTorch and PySyft to do it for us."
   ]
  },
  {
   "cell_type": "code",
   "execution_count": null,
   "metadata": {},
   "outputs": [],
   "source": [
    "import torch\n",
    "import syft as sy\n",
    "hook = sy.TorchHook(torch)"
   ]
  },
  {
   "cell_type": "markdown",
   "metadata": {},
   "source": [
    "Let's say Alice, Bob and Charlie are all enrolled on the **Foundations of Privacy** course and we, as instructors, want to know on average, how far in the course they are. We don't want to breach their privacy so each percentage of completion will be their own secret (a, b and c). \n",
    "\n",
    "For educational purposes, we will define our parties (nodes, workers, etc) using `VirtualWorker` PySyft objects."
   ]
  },
  {
   "cell_type": "code",
   "execution_count": null,
   "metadata": {},
   "outputs": [],
   "source": [
    "alice = sy.VirtualWorker(hook, id=\"alice\")\n",
    "bob = sy.VirtualWorker(hook, id=\"bob\")\n",
    "charlie = sy.VirtualWorker(hook, id=\"charlie\")"
   ]
  },
  {
   "cell_type": "markdown",
   "metadata": {},
   "source": [
    "We also need a \"secure worker\", also known as the `Crypto Provider` to provide us with random prime numbers."
   ]
  },
  {
   "cell_type": "code",
   "execution_count": null,
   "metadata": {},
   "outputs": [],
   "source": [
    "secure_worker = sy.VirtualWorker(hook, \"secure_worker\")"
   ]
  },
  {
   "cell_type": "markdown",
   "metadata": {},
   "source": [
    "We define our secrets using `torch.tensor` PyTorch tensor objects and we `Additive Share` them with our fellow workers."
   ]
  },
  {
   "cell_type": "code",
   "execution_count": null,
   "metadata": {},
   "outputs": [],
   "source": [
    "# Let a, b and c be our students' completion percentage\n",
    "a = torch.tensor([35])\n",
    "b = torch.tensor([77])\n",
    "c = torch.tensor([10])"
   ]
  },
  {
   "cell_type": "code",
   "execution_count": null,
   "metadata": {},
   "outputs": [],
   "source": [
    "# And we additive share with our parties\n",
    "a = a.share(alice, bob, charlie, crypto_provider=secure_worker)\n",
    "b = b.share(alice, bob, charlie, crypto_provider=secure_worker)\n",
    "c = c.share(alice, bob, charlie, crypto_provider=secure_worker)"
   ]
  },
  {
   "cell_type": "code",
   "execution_count": null,
   "metadata": {},
   "outputs": [],
   "source": [
    "# And we compute the mean of our tensor\n",
    "mean = torch.mean(torch.stack(list([a,b,c])))\n",
    "mean"
   ]
  },
  {
   "cell_type": "markdown",
   "metadata": {},
   "source": [
    "Also, see that the object type is **[AdditiveSharingTensor]**.\n",
    "For this example, we can decrypt our computation result using the get() method"
   ]
  },
  {
   "cell_type": "code",
   "execution_count": null,
   "metadata": {},
   "outputs": [],
   "source": [
    "decrypted_mean = mean.get()\n",
    "decrypted_mean"
   ]
  },
  {
   "cell_type": "markdown",
   "metadata": {},
   "source": [
    "And get the scalar using the item() method (Only works for 1-dimensional tensors)."
   ]
  },
  {
   "cell_type": "code",
   "execution_count": null,
   "metadata": {},
   "outputs": [],
   "source": [
    "scalar_mean = decrypted_mean.item()\n",
    "scalar_mean"
   ]
  },
  {
   "cell_type": "markdown",
   "metadata": {},
   "source": [
    "Now, the average completion should actually be 40 and $ \\frac{1}{3} $ (or 40.6666666666... ) but this is something we will learn about in the next lessons."
   ]
  },
  {
   "cell_type": "markdown",
   "metadata": {},
   "source": [
    "Let’s now tackle private multiplication!"
   ]
  }
 ],
 "metadata": {
  "kernelspec": {
   "display_name": "Python 3",
   "language": "python",
   "name": "python3"
  },
  "language_info": {
   "codemirror_mode": {
    "name": "ipython",
    "version": 3
   },
   "file_extension": ".py",
   "mimetype": "text/x-python",
   "name": "python",
   "nbconvert_exporter": "python",
   "pygments_lexer": "ipython3",
   "version": "3.6.12"
  }
 },
 "nbformat": 4,
 "nbformat_minor": 4
}
